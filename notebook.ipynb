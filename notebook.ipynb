{
 "cells": [
  {
   "cell_type": "code",
   "execution_count": 5,
   "metadata": {},
   "outputs": [],
   "source": [
    "import matplotlib.pyplot as plt\n",
    "from scipy.fftpack import fft\n",
    "from scipy.io import wavfile\n",
    "from scipy.signal import find_peaks\n",
    "\n",
    "import numpy as np\n",
    "\n",
    "plt.rcParams['figure.dpi'] = 100\n",
    "plt.rcParams['figure.figsize'] = (9, 7)"
   ]
  },
  {
   "cell_type": "code",
   "execution_count": 2,
   "metadata": {},
   "outputs": [
    {
     "name": "stderr",
     "output_type": "stream",
     "text": [
      "C:\\Users\\ericq\\AppData\\Local\\Temp\\ipykernel_28352\\451949883.py:15: WavFileWarning: Chunk (non-data) not understood, skipping it.\n",
      "  fs, signal = wavfile.read(v['filename'])\n"
     ]
    }
   ],
   "source": [
    "data = {\n",
    "    'black_hawks': {'filename': 'black_hawks.wav', 'title': 'Black Hawks'},\n",
    "    'd_activators': {'filename': 'd_activators.wav', 'title': 'D-Activators'},\n",
    "    'ssl_6': {'filename': 'ssl_6.wav', 'title': 'SSL6'}\n",
    "}\n",
    "\n",
    "def compute_spectrum(signal, fs):\n",
    "    fft_spectrum = np.fft.rfft(signal)\n",
    "    freq = np.fft.rfftfreq(signal.size, d=1./fs)\n",
    "    fft_spectrum_abs = np.abs(fft_spectrum)\n",
    "\n",
    "    return freq, fft_spectrum_abs\n",
    "\n",
    "for v in data.values():\n",
    "    fs, signal = wavfile.read(v['filename'])\n",
    "\n",
    "    channel_1 = signal[:,0]\n",
    "    channel_2 = signal[:,1]\n",
    "\n",
    "    freq1, amp1 = compute_spectrum(channel_1, fs)\n",
    "    freq2, amp2 = compute_spectrum(channel_2, fs)\n",
    "\n",
    "    v['fs'] = fs\n",
    "    v['channel_1'] = channel_1\n",
    "    v['channel_2'] = channel_2\n",
    "\n",
    "    v['freq1'] = freq1\n",
    "    v['amp1'] = amp1\n",
    "    v['freq2'] = freq2\n",
    "    v['amp2'] = amp2"
   ]
  },
  {
   "cell_type": "code",
   "execution_count": 3,
   "metadata": {},
   "outputs": [],
   "source": [
    "for v in data.values():\n",
    "    t1 = np.linspace(0, len(v['channel_1'])/v['fs'], num=len(v['channel_1']))\n",
    "    t2 = np.linspace(0, len(v['channel_2'])/v['fs'], num=len(v['channel_2']))\n",
    "\n",
    "    plt.plot(t1, v['channel_1'], 'r', alpha=0.5, label=f\"Channel 1\")\n",
    "    plt.plot(t2, v['channel_2'], 'b', alpha=0.5, label=f\"Channel 2\")\n",
    "\n",
    "    plot_title = f\"{v['title']} Time Domain Plot\"\n",
    "    plt.title(plot_title)\n",
    "    plt.xlabel('Time (s)')\n",
    "    plt.ylabel('Amplitude')\n",
    "    plt.legend()\n",
    "    plt.grid(which='major', color='#DDDDDD', linewidth=1)\n",
    "    plt.savefig(plot_title + \".pdf\", format='pdf', dpi=600)\n",
    "    plt.close()"
   ]
  },
  {
   "cell_type": "code",
   "execution_count": 24,
   "metadata": {},
   "outputs": [],
   "source": [
    "cutoff = 3000\n",
    "\n",
    "for v in data.values():\n",
    "    plt.plot(v['freq1'][:cutoff], v['amp1'][:cutoff], label=v['title'])\n",
    "    plt.xlabel(\"Frequency (Hz)\")\n",
    "    plt.ylabel(\"Amplitude\")\n",
    "    plt.title('Spectra Comparison')\n",
    "    plt.grid(which='major', color='#DDDDDD', linewidth=1)\n",
    "\n",
    "    peaks, _= find_peaks(v['amp1'][:cutoff], height=5)\n",
    "    for pk in peaks:\n",
    "        plt.text(v['freq1'][pk], 1 + v['amp1'][[pk]], f\"{v['freq1'][pk]:.1f} Hz\", c=plt.gca().lines[-1].get_color())\n",
    "plt.legend()\n",
    "plt.savefig(\"Pickup Spectra Comparison.pdf\", format='pdf', dpi=600)\n",
    "plt.close()"
   ]
  },
  {
   "cell_type": "code",
   "execution_count": null,
   "metadata": {},
   "outputs": [],
   "source": []
  }
 ],
 "metadata": {
  "kernelspec": {
   "display_name": "Python 3",
   "language": "python",
   "name": "python3"
  },
  "language_info": {
   "codemirror_mode": {
    "name": "ipython",
    "version": 3
   },
   "file_extension": ".py",
   "mimetype": "text/x-python",
   "name": "python",
   "nbconvert_exporter": "python",
   "pygments_lexer": "ipython3",
   "version": "3.10.6"
  },
  "orig_nbformat": 4
 },
 "nbformat": 4,
 "nbformat_minor": 2
}
